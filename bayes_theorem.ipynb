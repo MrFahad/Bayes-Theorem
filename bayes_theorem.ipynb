{
 "cells": [
  {
   "cell_type": "markdown",
   "metadata": {},
   "source": [
    "# Bayes Theorem\n",
    "\n",
    "![Bayes Theorm](bayes.png)\n",
    "\n",
    "<a href=\"https://towardsdatascience.com/bayes-rule-with-a-simple-and-practical-example-2bce3d0f4ad0\"> Image courtesy of Tirthajyoti Sarkar</a>\n",
    "\n",
    "In which I attempt to tackle some practice problems and then move on from probabilities to distributions."
   ]
  },
  {
   "cell_type": "markdown",
   "metadata": {},
   "source": [
    "## Part 1: Bayes Practice Problems\n",
    "\n",
    "### Problem 1: IRAs\n",
    "\n",
    "You work at a financial services company that offers individual retirement accounts (IRAs). To target high potential customers, you want to find out if people with children are more likely to invest in IRAs.  \n",
    "\n",
    "So far you have found:\n",
    "- 30% of all Americans have IRAs.\n",
    "- half of Americans have children.\n",
    "- two-thirds of those with IRAs have children.\n",
    "\n",
    "Based on this information, what is the probability that someone with children has an IRA? "
   ]
  },
  {
   "cell_type": "code",
   "execution_count": 1,
   "metadata": {},
   "outputs": [],
   "source": [
    "import numpy as np"
   ]
  },
  {
   "cell_type": "code",
   "execution_count": 3,
   "metadata": {},
   "outputs": [
    {
     "data": {
      "text/plain": [
       "0.39999999999999997"
      ]
     },
     "execution_count": 3,
     "metadata": {},
     "output_type": "execute_result"
    }
   ],
   "source": [
    "p_children_ira = 2/3\n",
    "P_ira = .3\n",
    "P_children = .5\n",
    "\n",
    "p_children_ira * P_ira / P_children"
   ]
  },
  {
   "cell_type": "markdown",
   "metadata": {},
   "source": [
    "---"
   ]
  },
  {
   "cell_type": "markdown",
   "metadata": {},
   "source": [
    "### Problem 2: Resident Satisfaction\n",
    "\n",
    "Suppose I own a hotel and an apartment building. Times are tight, and I need to sell one of them. Either would earn me the exact same amount of money, so that doesn't help me to make my decision. Instead, I will make my decision based on my residents' satisfaction. \n",
    "\n",
    "- Whichever building has a higher percentage of satisfied people is the one I will choose to keep.\n",
    "- _However_, if the percent of satisfied guests for my hotel and the percent of satified guests for my apartment building are within 10% of one another, I will sell neither until I can bring in some outside consultants to help me make my decision.\n",
    "- Last winter, I administered a survey to *all* residents and found that 60% of them are satisfied.\n",
    "- Among satisfied respondents, two out of every five came from the apartment building.\n",
    "- One-third of my residents live in my apartment building.\n",
    "\n",
    "What action will I take?"
   ]
  },
  {
   "cell_type": "code",
   "execution_count": 7,
   "metadata": {
    "scrolled": true
   },
   "outputs": [
    {
     "name": "stdout",
     "output_type": "stream",
     "text": [
      "72.0% apartment residents are satisfied.\n",
      "54.0% apartment residents are satisfied.\n"
     ]
    }
   ],
   "source": [
    "p_satisfied_apartment = 2/5\n",
    "p_satisfied_hotel = 3/5\n",
    "p_residents_apartment = 1/3\n",
    "p_residents_hotel = 2/3\n",
    "p_satisfied = .6\n",
    "\n",
    "p_satisfied_apartment = p_satisfied_apartment * p_satisfied/p_residents_apartment\n",
    "print(f'{round(p_satisfied_apartment, 2)*100}% apartment residents are satisfied.')\n",
    "\n",
    "p_satisfied_hotel = p_satisfied_hotel * p_satisfied/p_residents_hotel\n",
    "print(f'{round(p_satisfied_hotel, 2)*100}% apartment residents are satisfied.')"
   ]
  },
  {
   "cell_type": "markdown",
   "metadata": {},
   "source": [
    "Sell the hotel."
   ]
  },
  {
   "cell_type": "markdown",
   "metadata": {},
   "source": [
    "---"
   ]
  },
  {
   "cell_type": "markdown",
   "metadata": {},
   "source": [
    "### Problem 3: Coin Game\n",
    "\n",
    "Suppose you and your friend are playing a game. Your friend has laid four coins out in front of you. If you flip heads, you win a dollar from your friend. If you flip tails, you owe a dollar to your friend. However, the coins in front of you are not fair.\n",
    "- One coin has a 80% chance of flipping heads. (Call this coin A.)\n",
    "- One coin has a 60% chance of flipping heads. (Call this coin B.)\n",
    "- One coin has a 40% chance of flipping heads. (Call this coin C.)\n",
    "- One coin has a 10% chance of flipping heads. (Call this coin D.)\n",
    "\n",
    "#### Problem 3 (a): Suppose you select one coin at random. That is, you don't know whether you selected coin A, B, C, or D. You flip heads. Given this data, what are the probabilities that you selected coin A, coin B, coin C, and coin D?"
   ]
  },
  {
   "cell_type": "code",
   "execution_count": 8,
   "metadata": {},
   "outputs": [
    {
     "name": "stdout",
     "output_type": "stream",
     "text": [
      "If I flip heads, there is a 42.0% chance I flipped coin A.\n",
      "If I flip heads, there is a  32.0% chance I flipped coin b.\n",
      "If I flip heads, there is a  21.0% chance I flipped coin C.\n",
      "If I flip heads, there is a  5.0% chance I flipped coin D.\n"
     ]
    }
   ],
   "source": [
    "p_a = .25\n",
    "p_b = .25\n",
    "p_c = .25\n",
    "p_d = .25\n",
    "\n",
    "p_head_a = .8\n",
    "p_head_b = .6\n",
    "p_head_c = .4\n",
    "p_head_d = .1\n",
    "\n",
    "p_a_head = p_head_a * p_a / ((p_head_a + p_head_b + p_head_c + p_head_d)/4)\n",
    "p_b_head = p_head_b * p_b / ((p_head_a + p_head_b + p_head_c + p_head_d)/4)\n",
    "p_c_head = p_head_c * p_c / ((p_head_a + p_head_b + p_head_c + p_head_d)/4)\n",
    "p_d_head = p_head_d * p_d / ((p_head_a + p_head_b + p_head_c + p_head_d)/4)\n",
    "\n",
    "print(f'If I flip heads, there is a {round(p_a_head, 2)*100}% chance I flipped coin A.')\n",
    "print(f'If I flip heads, there is a  {round(p_b_head, 2)*100}% chance I flipped coin b.')\n",
    "print(f'If I flip heads, there is a  {round(p_c_head, 2)*100}% chance I flipped coin C.')\n",
    "print(f'If I flip heads, there is a  {round(p_d_head, 2)*100}% chance I flipped coin D.')"
   ]
  },
  {
   "cell_type": "markdown",
   "metadata": {},
   "source": [
    "#### Problem 3 (b): Suppose you are using the same coin as before. That is, you _still_ don't know whether you selected coin A, B, C, or D - although you have a better idea now that you flipped heads on your first flip! On this second flip, you flip tails. Given this data, what are the probabilities that you selected coin A, coin B, coin C, and coin D?\n",
    "\n",
    "$$\n",
    "\\begin{eqnarray*}\n",
    "P(A|B\\cap C) &=& \\frac{P(A\\cap B \\cap C)}{P(B\\cap C)} \\\\\n",
    "\\\\\n",
    "&=& \\frac{P(A\\cap B|C)P(C)}{P(B|C)P(C)} \\\\\n",
    "\\\\\n",
    "&=& \\frac{P(A\\cap B|C)}{P(B|C)} \\\\\n",
    "\\end{eqnarray*}\n",
    "$$"
   ]
  },
  {
   "cell_type": "code",
   "execution_count": 9,
   "metadata": {},
   "outputs": [
    {
     "name": "stdout",
     "output_type": "stream",
     "text": [
      "The probability I selected coin A is 22.0%.\n",
      "The probability I selected coin B is 33.0%.\n",
      "The probability I selected coin C is 33.0%.\n",
      "The probability I selected coin D is 12.0%.\n"
     ]
    }
   ],
   "source": [
    "p_tail_a = 1 - p_head_a\n",
    "p_tail_b = 1 - p_head_b\n",
    "p_tail_c = 1 - p_head_c\n",
    "p_tail_d = 1 - p_head_d\n",
    "\n",
    "p_tail_a_head = p_tail_a * p_a_head\n",
    "p_tail_b_head = p_tail_b * p_b_head\n",
    "p_tail_c_head = p_tail_c * p_c_head\n",
    "p_tail_d_head = p_tail_d * p_d_head\n",
    "\n",
    "p_a_tail_head = p_tail_a_head / (p_tail_a_head + p_tail_b_head + p_tail_c_head + p_tail_d_head)\n",
    "p_b_tail_head = p_tail_b_head / (p_tail_a_head + p_tail_b_head + p_tail_c_head + p_tail_d_head)\n",
    "p_c_tail_head = p_tail_c_head / (p_tail_a_head + p_tail_b_head + p_tail_c_head + p_tail_d_head)\n",
    "p_d_tail_head = p_tail_d_head / (p_tail_a_head + p_tail_b_head + p_tail_c_head + p_tail_d_head)\n",
    "\n",
    "print(f'The probability I selected coin A is {round(p_a_tail_head, 2)*100}%.')\n",
    "print(f'The probability I selected coin B is {round(p_b_tail_head, 2)*100}%.')\n",
    "print(f'The probability I selected coin C is {round(p_c_tail_head, 2)*100}%.')\n",
    "print(f'The probability I selected coin D is {round(p_d_tail_head, 2)*100}%.')"
   ]
  },
  {
   "cell_type": "markdown",
   "metadata": {},
   "source": [
    "#### BONUS: Problem 3(c): Suppose you are using the same coin as before. That is, you _still_ don't know whether you selected coin A, B, C, or D - although you have a better idea now that you flipped heads, then tails on your first two flips! On this third flip, you flip tails. Given this data, what are the probabilities that you selected coin A, coin B, coin C, and coin D?"
   ]
  },
  {
   "cell_type": "code",
   "execution_count": 10,
   "metadata": {},
   "outputs": [
    {
     "name": "stdout",
     "output_type": "stream",
     "text": [
      "The probability I selected coin A is 9.0%.\n",
      "The probability I selected coin B is 27.0%.\n",
      "The probability I selected coin C is 41.0%.\n",
      "The probability I selected coin D is 23.0%.\n"
     ]
    }
   ],
   "source": [
    "p_tail_a_tail_head = p_tail_a * p_a_tail_head\n",
    "p_tail_b_tail_head = p_tail_b * p_b_tail_head\n",
    "p_tail_c_tail_head = p_tail_c * p_c_tail_head\n",
    "p_tail_d_tail_head = p_tail_d * p_d_tail_head\n",
    "\n",
    "p_a_tail_tail_head = p_tail_a_tail_head / (p_tail_a_tail_head + p_tail_b_tail_head +\\\n",
    "                                           p_tail_c_tail_head + p_tail_d_tail_head)\n",
    "p_b_tail_tail_head = p_tail_b_tail_head / (p_tail_a_tail_head + p_tail_b_tail_head +\\\n",
    "                                           p_tail_c_tail_head + p_tail_d_tail_head)\n",
    "p_c_tail_tail_head = p_tail_c_tail_head / (p_tail_a_tail_head + p_tail_b_tail_head +\\\n",
    "                                           p_tail_c_tail_head + p_tail_d_tail_head)\n",
    "p_d_tail_tail_head = p_tail_d_tail_head / (p_tail_a_tail_head + p_tail_b_tail_head +\\\n",
    "                                           p_tail_c_tail_head + p_tail_d_tail_head)\n",
    "\n",
    "print(f'The probability I selected coin A is {round(p_a_tail_tail_head, 2)*100}%.')\n",
    "print(f'The probability I selected coin B is {round(p_b_tail_tail_head, 2)*100}%.')\n",
    "print(f'The probability I selected coin C is {round(p_c_tail_tail_head, 2)*100}%.')\n",
    "print(f'The probability I selected coin D is {round(p_d_tail_tail_head, 2)*100}%.')"
   ]
  },
  {
   "cell_type": "markdown",
   "metadata": {},
   "source": [
    "---\n",
    "\n",
    "## Part 2: Moving from Probabilities to Distributions\n",
    "\n",
    "### Problem 4: Prior Probabilities\n",
    "\n",
    "#### Problem 4 (a): In Problem 3, before you had flipped any coin, what was the probability that you had selected coin A? Coin B? Coin C? Coin D?"
   ]
  },
  {
   "cell_type": "markdown",
   "metadata": {},
   "source": [
    "**Answer:**\n",
    "\n",
    "25% for each coin."
   ]
  },
  {
   "cell_type": "markdown",
   "metadata": {},
   "source": [
    "#### Problem 4 (b): What is the definition of a distribution?"
   ]
  },
  {
   "cell_type": "markdown",
   "metadata": {},
   "source": [
    "**Answer:**\n",
    "\n",
    "A distribution is the set of all possible values for a variable and how often they occur."
   ]
  },
  {
   "cell_type": "markdown",
   "metadata": {},
   "source": [
    "#### Problem 4 (c): What \"named distribution\" (i.e. a distribution that has a common name) could we apply to a situation where selecting coins A-D is equally likely?"
   ]
  },
  {
   "cell_type": "markdown",
   "metadata": {},
   "source": [
    "**Answer:**\n",
    "\n",
    "Uniform"
   ]
  },
  {
   "cell_type": "markdown",
   "metadata": {},
   "source": [
    "#### Problem 4 (d): Suppose that I have only one coin and I want to conduct inference on the probability of flipping heads, $p$. Note that $p$ is unknown. If I want to specify some prior distribution where all probabilities $p$ are equally likely, should I use a discrete or continuous distribution? Why?"
   ]
  },
  {
   "cell_type": "markdown",
   "metadata": {},
   "source": [
    "**Answer:**\n",
    "\n",
    "We want to conduct inference on our parameter $p$, which takes on an uncountably infinite number of values between 0 and 1. Since the values are uncountably infinite, we should pick a continuous distribution. "
   ]
  },
  {
   "cell_type": "markdown",
   "metadata": {},
   "source": [
    "#### Problem 4 (e): Suppose that I have only one coin and I want to conduct inference on the probability of flipping heads, $p$. Note that $p$ is unknown. If I want to specify some prior distribution where all probabilities $p$ are equally likely, then what named distribution might I use?"
   ]
  },
  {
   "cell_type": "markdown",
   "metadata": {},
   "source": [
    "**Answer:**\n",
    "\n",
    "A continuous Uniform distribution on $[0,1]$."
   ]
  },
  {
   "cell_type": "markdown",
   "metadata": {},
   "source": [
    "#### Problem 4 (f): Suppose I have only one coin with some unknown probability of flipping heads $p$. If I think 50% is the likeliest value for $p$ and, as we get farther away from 50%, that value is less and less likely, what named distribution could I use?"
   ]
  },
  {
   "cell_type": "markdown",
   "metadata": {},
   "source": [
    "**Answer:**\n",
    "\n",
    "- We might use a Normal distribution with a mean of 50%. In this case, the likeliest value for $p$ is 50% and each value for $p$ is less likely as we get farther from 50%. We'll want to select a $\\sigma$ that accurately reflects how much certainty we have in 50%. For example, if we use a $Normal$(0.5,0.5), then we're relatively uncertain in the true value. If we use a $Normal$(0.5, 0.01), though, we're much more certain that 50% is the best value. (In this case, 99.7% of observations would be between 0.47 and 0.53.)\n",
    "    - A downside to this choice is that the Normal distribution is supported between $-\\infty$ and $+\\infty$. Thus, we'll have positive probabilities outside of $[0,1]$. We'll want to select a $\\sigma$ value that minimizes how much [leakage](https://arxiv.org/abs/1201.3611) we observe.\n",
    "- Beta distribution is a great choice for probabilities because it's a continuous distribution defined between 0 and 1. In this case, we might select a $Beta(\\alpha, \\beta)$ where $\\alpha = \\beta$. If $\\alpha = \\beta$, then the distribution is symmetric. If $\\alpha$ and $\\beta$ are both greater than 1, then the mode (peak) will be at 0.5."
   ]
  },
  {
   "cell_type": "markdown",
   "metadata": {},
   "source": [
    "#### Problem 4 (g): When we listed out our prior probabilities for each coin, we got the same number of posterior probabilities. For example, when we had four prior probabilities (one for Coin A, one for Coin B, one for Coin C, and one for Coin D), then we had four posterior probabilities (one for Coin A, for Coin B, one for Coin C, and one for Coin D). However, if we have one prior distribution, then we will get one posterior distribution. What are some advantages to being able to summarize our posterior with one distribution instead of a big list of probabilities?"
   ]
  },
  {
   "cell_type": "markdown",
   "metadata": {},
   "source": [
    "**Answer:**\n",
    "\n",
    "- If we only need to compute one posterior distribution instead of many posterior probabilities, then we don't have to do as many manual calculations.\n",
    "- If we have an uncountable number of possibilities for our prior, we cannot actually enumerate all possible posteriors. Therefore, one posterior distribution is the only way for us to properly study posterior probabilities in this case."
   ]
  }
 ],
 "metadata": {
  "kernelspec": {
   "display_name": "Python 3",
   "language": "python",
   "name": "python3"
  },
  "language_info": {
   "codemirror_mode": {
    "name": "ipython",
    "version": 3
   },
   "file_extension": ".py",
   "mimetype": "text/x-python",
   "name": "python",
   "nbconvert_exporter": "python",
   "pygments_lexer": "ipython3",
   "version": "3.8.8"
  }
 },
 "nbformat": 4,
 "nbformat_minor": 2
}
